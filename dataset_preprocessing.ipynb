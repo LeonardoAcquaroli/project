{
 "cells": [
  {
   "cell_type": "code",
   "execution_count": 1,
   "metadata": {},
   "outputs": [],
   "source": [
    "import pandas as pd"
   ]
  },
  {
   "cell_type": "code",
   "execution_count": 2,
   "metadata": {},
   "outputs": [],
   "source": [
    "prado = pd.read_csv('prado.csv')"
   ]
  },
  {
   "cell_type": "markdown",
   "metadata": {},
   "source": [
    "# Process supports"
   ]
  },
  {
   "cell_type": "markdown",
   "metadata": {},
   "source": [
    "Drop na"
   ]
  },
  {
   "cell_type": "code",
   "execution_count": 3,
   "metadata": {},
   "outputs": [],
   "source": [
    "prado = prado.dropna(subset=['technical_sheet_soporte'])"
   ]
  },
  {
   "cell_type": "markdown",
   "metadata": {},
   "source": [
    "Aggregate the paper, canvas and wood supported workarts"
   ]
  },
  {
   "cell_type": "code",
   "execution_count": 4,
   "metadata": {},
   "outputs": [],
   "source": [
    "prado.loc[:,'technical_sheet_soporte'] = prado.loc[:,'technical_sheet_soporte'].apply(lambda x: 'Papel' if x.startswith('Papel') else x)\n",
    "# prado.loc[:,'technical_sheet_soporte'] = prado.loc[:,'technical_sheet_soporte'].apply(lambda x: 'Lienzo' if x.startswith('Lienzo') else x)\n",
    "# prado.loc[:,'technical_sheet_soporte'] = prado.loc[:,'technical_sheet_soporte'].apply(lambda x: 'Tabla' if x.startswith('Tabla') else x)\n",
    "# Aggregate Canvas and Wood\n",
    "canvas_wood = ['Lienzo', 'Tabla']\n",
    "prado.loc[prado['technical_sheet_soporte'].apply(lambda x: any(x.startswith(prefix) for prefix in canvas_wood)), 'technical_sheet_soporte'] = 'Tabla-Lienzo'"
   ]
  },
  {
   "cell_type": "code",
   "execution_count": 15,
   "metadata": {},
   "outputs": [
    {
     "data": {
      "text/plain": [
       "technical_sheet_soporte\n",
       "Papel                                      6434\n",
       "Tabla-Lienzo                               4088\n",
       "Marfil                                      149\n",
       "Placa de vidrio                             127\n",
       "Lámina de cobre                              82\n",
       "Revestimiento mural trasladado a lienzo      44\n",
       "Tejido                                       16\n",
       "Cartón                                       14\n",
       "Terciopelo                                   12\n",
       "Porcelana                                    11\n",
       "Name: count, dtype: int64"
      ]
     },
     "execution_count": 15,
     "metadata": {},
     "output_type": "execute_result"
    }
   ],
   "source": [
    "prado.technical_sheet_soporte.value_counts().sort_values(ascending=False)[:10]"
   ]
  },
  {
   "cell_type": "markdown",
   "metadata": {},
   "source": [
    "Filter to keep the three most frequent supports and then undersample to balance the dataset"
   ]
  },
  {
   "cell_type": "code",
   "execution_count": 26,
   "metadata": {},
   "outputs": [
    {
     "name": "stderr",
     "output_type": "stream",
     "text": [
      "C:\\Users\\leoac\\AppData\\Local\\Temp\\ipykernel_4004\\329508867.py:5: DeprecationWarning: DataFrameGroupBy.apply operated on the grouping columns. This behavior is deprecated, and in a future version of pandas the grouping columns will be excluded from the operation. Either pass `include_groups=False` to exclude the groupings or explicitly select the grouping columns after groupby to silence this warning.\n",
      "  undersampled_prado = filtered_prado.groupby('technical_sheet_soporte').apply(lambda x: x.sample(1000)).reset_index(drop=True)\n"
     ]
    }
   ],
   "source": [
    "# Filter the dataframe to keep only the first three supports\n",
    "filtered_prado = prado[prado['technical_sheet_soporte'].isin(['Papel', 'Tabla-Lienzo'])]\n",
    "\n",
    "# Undersample each support to the minimum count\n",
    "undersampled_prado = filtered_prado.groupby('technical_sheet_soporte').apply(lambda x: x.sample(1000)).reset_index(drop=True)"
   ]
  },
  {
   "cell_type": "markdown",
   "metadata": {},
   "source": [
    "# Create the dataset"
   ]
  },
  {
   "cell_type": "markdown",
   "metadata": {},
   "source": [
    "Create a column for matching the filenames"
   ]
  },
  {
   "cell_type": "code",
   "execution_count": 27,
   "metadata": {},
   "outputs": [
    {
     "data": {
      "text/plain": [
       "0       41cf02a4-02be-4d65-9b79-ff2c4e2eb92b.jpg\n",
       "1       d4b75e70-c254-4549-bda1-6afcb9b6e6f3.jpg\n",
       "2       adb4e295-c839-4ed2-b8ab-3578d075ef59.jpg\n",
       "3       5e840b25-5bc5-4524-88ce-59054e1a921b.jpg\n",
       "4       2a754424-e920-49b1-b63c-c47e2f1ef55e.jpg\n",
       "                          ...                   \n",
       "1995    9f979477-b7df-4420-b22c-c817ef8776e3.jpg\n",
       "1996    ba96347d-7116-4922-959f-d7d223d44f35.jpg\n",
       "1997    7360ca6a-cde1-42f3-8a74-14fc6e707a71.jpg\n",
       "1998    fab49aa5-8706-4988-9a54-a077b9bd58a3.jpg\n",
       "1999    6f2c5525-e0c7-4d09-ba07-168d4a55c04b.jpg\n",
       "Name: image_file_name, Length: 2000, dtype: object"
      ]
     },
     "execution_count": 27,
     "metadata": {},
     "output_type": "execute_result"
    }
   ],
   "source": [
    "import os\n",
    "undersampled_prado['image_file_name'] = undersampled_prado.work_image_url.apply(lambda x: os.path.basename(x))\n",
    "undersampled_prado['image_file_name']"
   ]
  },
  {
   "cell_type": "markdown",
   "metadata": {},
   "source": [
    "Rename the support column and create the ultimate df with only filename and support type"
   ]
  },
  {
   "cell_type": "code",
   "execution_count": 28,
   "metadata": {},
   "outputs": [],
   "source": [
    "undersampled_prado.rename({'technical_sheet_soporte': 'support'}, axis=1, inplace=True)\n",
    "processed_prado = undersampled_prado[['image_file_name', 'support']]"
   ]
  },
  {
   "cell_type": "code",
   "execution_count": 29,
   "metadata": {},
   "outputs": [
    {
     "data": {
      "text/plain": [
       "'2000 images in the processed dataset'"
      ]
     },
     "execution_count": 29,
     "metadata": {},
     "output_type": "execute_result"
    }
   ],
   "source": [
    "f'{len(processed_prado)} images in the processed dataset'"
   ]
  },
  {
   "cell_type": "markdown",
   "metadata": {},
   "source": [
    "Save a .feather file"
   ]
  },
  {
   "cell_type": "code",
   "execution_count": 30,
   "metadata": {},
   "outputs": [],
   "source": [
    "processed_prado.to_feather('processed_prado.feather')"
   ]
  }
 ],
 "metadata": {
  "kernelspec": {
   "display_name": "Python 3",
   "language": "python",
   "name": "python3"
  },
  "language_info": {
   "codemirror_mode": {
    "name": "ipython",
    "version": 3
   },
   "file_extension": ".py",
   "mimetype": "text/x-python",
   "name": "python",
   "nbconvert_exporter": "python",
   "pygments_lexer": "ipython3",
   "version": "3.11.5"
  }
 },
 "nbformat": 4,
 "nbformat_minor": 2
}
