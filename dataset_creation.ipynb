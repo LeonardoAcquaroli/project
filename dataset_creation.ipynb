{
 "cells": [
  {
   "cell_type": "markdown",
   "metadata": {},
   "source": [
    "# Delete useless jpgs found in the images folder "
   ]
  },
  {
   "cell_type": "code",
   "execution_count": null,
   "metadata": {},
   "outputs": [],
   "source": [
    "import os\n",
    "\n",
    "u_files = [useless_file \n",
    "           for useless_file in os.listdir('/path/to/images/folder')\n",
    "           if '._' in useless_file]\n",
    "\n",
    "for u_file in u_files:\n",
    "    os.remove(os.path.join('/path/to/images/folder', u_file))"
   ]
  },
  {
   "cell_type": "markdown",
   "metadata": {},
   "source": [
    "# Dataset creation"
   ]
  },
  {
   "cell_type": "markdown",
   "metadata": {},
   "source": [
    "Create the folders tree divided by training | validation | test and the resepctive supports"
   ]
  },
  {
   "cell_type": "code",
   "execution_count": 1,
   "metadata": {},
   "outputs": [
    {
     "name": "stdout",
     "output_type": "stream",
     "text": [
      "e7573626-3a12-4acd-b7eb-1db4a6d9aa42.jpg\n",
      "Dataset organized successfully.\n"
     ]
    }
   ],
   "source": [
    "import os\n",
    "import shutil\n",
    "import pandas as pd\n",
    "from sklearn.model_selection import train_test_split\n",
    "\n",
    "# Paths\n",
    "data_path = \"C:/Users/leoac/Downloads/archive/images/images\"\n",
    "processed_prado = \"C:/Users/leoac/OneDrive - Università degli Studi di Milano/Unimi/Subjects/2nd_year/02_quarter/Algorithms/project/processed_prado.feather\"\n",
    "base_dir = \"C:/Users/leoac/Downloads/archive/dataset\"\n",
    "\n",
    "# Load the .feather file\n",
    "df = pd.read_feather(processed_prado)\n",
    "\n",
    "# Define train and validation directories\n",
    "train_dir = os.path.join(base_dir, 'train')\n",
    "validation_dir = os.path.join(base_dir, 'validation')\n",
    "\n",
    "# Create directories for each support type\n",
    "support_types = df['support'].unique()\n",
    "for support in support_types:\n",
    "    os.makedirs(os.path.join(train_dir, support), exist_ok=True)\n",
    "    os.makedirs(os.path.join(validation_dir, support), exist_ok=True)\n",
    "\n",
    "# Split the dataset into training and validation sets\n",
    "train_df, val_df = train_test_split(df, test_size=0.2, stratify=df['support'], random_state=42)\n",
    "\n",
    "# Function to move files to the respective directories\n",
    "def move_files(file_names, src_dir, dest_dir, support_type):\n",
    "    for file_name in file_names:\n",
    "        src_path = os.path.join(src_dir, file_name)\n",
    "        dest_path = os.path.join(dest_dir, support_type, file_name)\n",
    "        try:\n",
    "            shutil.copy(src_path, dest_path)\n",
    "        except:\n",
    "            print(file_name)\n",
    "\n",
    "# Move training files\n",
    "for support in support_types:\n",
    "    train_files = train_df[train_df['support'] == support]['image_file_name'].tolist()\n",
    "    move_files(train_files, data_path, train_dir, support)\n",
    "\n",
    "# Move validation files\n",
    "for support in support_types:\n",
    "    val_files = val_df[val_df['support'] == support]['image_file_name'].tolist()\n",
    "    move_files(val_files, data_path, validation_dir, support)\n",
    "\n",
    "print(\"Dataset organized successfully.\")\n"
   ]
  },
  {
   "cell_type": "markdown",
   "metadata": {},
   "source": [
    "Delete the rows with missing images"
   ]
  },
  {
   "cell_type": "code",
   "execution_count": 2,
   "metadata": {},
   "outputs": [],
   "source": [
    "values_to_drop = ['e7573626-3a12-4acd-b7eb-1db4a6d9aa42.jpg']\n",
    "df = df.loc[~df['image_file_name'].isin(values_to_drop)]\n",
    "df = df.reset_index(drop=True)\n",
    "df.to_feather('processed_prado.feather')"
   ]
  }
 ],
 "metadata": {
  "kernelspec": {
   "display_name": "Python 3",
   "language": "python",
   "name": "python3"
  },
  "language_info": {
   "codemirror_mode": {
    "name": "ipython",
    "version": 3
   },
   "file_extension": ".py",
   "mimetype": "text/x-python",
   "name": "python",
   "nbconvert_exporter": "python",
   "pygments_lexer": "ipython3",
   "version": "3.11.5"
  }
 },
 "nbformat": 4,
 "nbformat_minor": 2
}
